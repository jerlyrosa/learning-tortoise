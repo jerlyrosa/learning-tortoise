{
  "cells": [
    {
      "cell_type": "markdown",
      "metadata": {
        "id": "view-in-github",
        "colab_type": "text"
      },
      "source": [
        "<a href=\"https://colab.research.google.com/github/jerlyrosa/learning-tortoise/blob/main/Tortoise_ORM_Models.ipynb\" target=\"_parent\"><img src=\"https://colab.research.google.com/assets/colab-badge.svg\" alt=\"Open In Colab\"/></a>"
      ]
    },
    {
      "cell_type": "code",
      "execution_count": null,
      "metadata": {
        "colab": {
          "base_uri": "https://localhost:8080/"
        },
        "id": "xA6RlRazQ34x",
        "outputId": "474d7717-2327-4cc2-c629-d18efd001017"
      },
      "outputs": [
        {
          "name": "stdout",
          "output_type": "stream",
          "text": [
            "Looking in indexes: https://pypi.org/simple, https://us-python.pkg.dev/colab-wheels/public/simple/\n",
            "Collecting tortoise-orm\n",
            "  Downloading tortoise_orm-0.19.2-py3-none-any.whl (166 kB)\n",
            "\u001b[K     |████████████████████████████████| 166 kB 34.5 MB/s \n",
            "\u001b[?25hCollecting pypika-tortoise<0.2.0,>=0.1.6\n",
            "  Downloading pypika_tortoise-0.1.6-py3-none-any.whl (47 kB)\n",
            "\u001b[K     |████████████████████████████████| 47 kB 5.8 MB/s \n",
            "\u001b[?25hCollecting iso8601<2.0.0,>=1.0.2\n",
            "  Downloading iso8601-1.1.0-py3-none-any.whl (9.9 kB)\n",
            "Collecting aiosqlite<0.18.0,>=0.16.0\n",
            "  Downloading aiosqlite-0.17.0-py3-none-any.whl (15 kB)\n",
            "Requirement already satisfied: pytz in /usr/local/lib/python3.8/dist-packages (from tortoise-orm) (2022.6)\n",
            "Requirement already satisfied: typing_extensions>=3.7.2 in /usr/local/lib/python3.8/dist-packages (from aiosqlite<0.18.0,>=0.16.0->tortoise-orm) (4.4.0)\n",
            "Installing collected packages: pypika-tortoise, iso8601, aiosqlite, tortoise-orm\n",
            "Successfully installed aiosqlite-0.17.0 iso8601-1.1.0 pypika-tortoise-0.1.6 tortoise-orm-0.19.2\n"
          ]
        }
      ],
      "source": [
        "!pip install tortoise-orm"
      ]
    },
    {
      "cell_type": "code",
      "execution_count": null,
      "metadata": {
        "colab": {
          "base_uri": "https://localhost:8080/"
        },
        "id": "8y0mC-fWRryD",
        "outputId": "f5c791a8-6a0f-441f-f6ef-85d0dbbd4ed1"
      },
      "outputs": [
        {
          "name": "stdout",
          "output_type": "stream",
          "text": [
            "Juan 2022-12-12\n",
            "Maria 2022-12-12\n"
          ]
        }
      ],
      "source": [
        "from tortoise import fields, Model\n",
        "\n",
        "class ModelUser0(Model):\n",
        "    id = fields.IntField(pk=True)\n",
        "    name = fields.TextField()\n",
        "    registration_date = fields.DateField()\n",
        "\n",
        "user0 = ModelUser0(name=\"Juan\", registration_date=\"2022-12-12\")\n",
        "user1 = ModelUser0(name=\"Pedro\", registration_date=\"2022-12-12\")\n",
        "user2 = ModelUser0(name=\"Maria\", registration_date=\"2022-12-12\")\n",
        "\n",
        "\n",
        "# Guardar el usuario en la base de datos\n",
        "print(user0.name, user0.registration_date)\n",
        "print(user2.name, user2.registration_date)\n"
      ]
    },
    {
      "cell_type": "code",
      "execution_count": null,
      "metadata": {
        "colab": {
          "background_save": true,
          "base_uri": "https://localhost:8080/"
        },
        "id": "ApbTrzz7UEWT",
        "outputId": "3f1dd6c2-3c9c-4fa4-d7a7-7da95e8f4dcc"
      },
      "outputs": [
        {
          "name": "stdout",
          "output_type": "stream",
          "text": [
            "Nombre Del Viento 1\n"
          ]
        }
      ],
      "source": [
        "from tortoise import fields, Model\n",
        "\n",
        "\n",
        "\n",
        "class Book(Model):\n",
        "    id = fields.IntField(pk=True)\n",
        "    title = fields.TextField()\n",
        "    created = fields.DatetimeField(auto_now_add=True)\n",
        "\n",
        "class Author(Model):\n",
        "    id = fields.IntField(pk=True)\n",
        "    name = fields.TextField()\n",
        "    books = fields.ForeignKeyField('models.Book', related_name='events')\n",
        "\n",
        "\n",
        "# Crear algunos autores y libros en memoria\n",
        "book1 = Book(title=\"Nombre Del Viento\", id=1)\n",
        "book1 = Book(title=\"El Temor De Un Hombre Sabio\", id=2)\n",
        "\n",
        "\n",
        "\n",
        "# author1 = Author(name=\"Patrick Rothfuss\", books=book1.id)\n",
        "# author2 = Author(name=\"Brandon\")\n",
        "\n",
        "\n",
        "print(book1.title, book1.id)\n",
        "\n",
        "\n"
      ]
    }
  ],
  "metadata": {
    "colab": {
      "provenance": [],
      "authorship_tag": "ABX9TyNOe+gYBbc+ZtiBu1GdWDhs",
      "include_colab_link": true
    },
    "kernelspec": {
      "display_name": "Python 3",
      "name": "python3"
    },
    "language_info": {
      "name": "python"
    }
  },
  "nbformat": 4,
  "nbformat_minor": 0
}